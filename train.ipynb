{
 "cells": [
  {
   "cell_type": "code",
   "execution_count": 1,
   "id": "b3b753ac",
   "metadata": {},
   "outputs": [],
   "source": [
    "import csv\n",
    "\n",
    "import numpy as np\n",
    "import tensorflow as tf\n",
    "from sklearn.model_selection import train_test_split\n",
    "\n",
    "RANDOM_SEED = 42"
   ]
  },
  {
   "cell_type": "code",
   "execution_count": 2,
   "id": "96ec0726",
   "metadata": {},
   "outputs": [],
   "source": [
    "dataset = 'dataset/my_dataset.csv'\n",
    "model_save_path = 'model.hdf5'\n",
    "tflite_save_path = 'model.tflite'"
   ]
  },
  {
   "cell_type": "code",
   "execution_count": 3,
   "id": "77df4e66",
   "metadata": {},
   "outputs": [],
   "source": [
    "NUM_CLASSES = 2"
   ]
  },
  {
   "cell_type": "code",
   "execution_count": 4,
   "id": "1b4e109a",
   "metadata": {},
   "outputs": [],
   "source": [
    "X_dataset = np.loadtxt(dataset, delimiter=',', dtype='float32', usecols=list(range(1, (21 * 2) + 1)))"
   ]
  },
  {
   "cell_type": "code",
   "execution_count": 5,
   "id": "76786441",
   "metadata": {},
   "outputs": [],
   "source": [
    "y_dataset = np.loadtxt(dataset, delimiter=',', dtype='int32', usecols=(0))"
   ]
  },
  {
   "cell_type": "code",
   "execution_count": 6,
   "id": "57cfae57",
   "metadata": {},
   "outputs": [],
   "source": [
    "X_train, X_test, y_train, y_test = train_test_split(X_dataset, y_dataset, train_size=0.75, random_state=RANDOM_SEED)"
   ]
  },
  {
   "cell_type": "code",
   "execution_count": 7,
   "id": "c92bd48e",
   "metadata": {},
   "outputs": [],
   "source": [
    "model = tf.keras.models.Sequential([\n",
    "    tf.keras.layers.Input((21 * 2, )),\n",
    "    tf.keras.layers.Dropout(0.2),\n",
    "    tf.keras.layers.Dense(20, activation='relu'),\n",
    "    tf.keras.layers.Dropout(0.4),\n",
    "    tf.keras.layers.Dense(10, activation='relu'),\n",
    "    tf.keras.layers.Dense(NUM_CLASSES, activation='sigmoid')\n",
    "])"
   ]
  },
  {
   "cell_type": "code",
   "execution_count": 8,
   "id": "0acc2a74",
   "metadata": {},
   "outputs": [
    {
     "name": "stdout",
     "output_type": "stream",
     "text": [
      "Model: \"sequential\"\n",
      "_________________________________________________________________\n",
      " Layer (type)                Output Shape              Param #   \n",
      "=================================================================\n",
      " dropout (Dropout)           (None, 42)                0         \n",
      "                                                                 \n",
      " dense (Dense)               (None, 20)                860       \n",
      "                                                                 \n",
      " dropout_1 (Dropout)         (None, 20)                0         \n",
      "                                                                 \n",
      " dense_1 (Dense)             (None, 10)                210       \n",
      "                                                                 \n",
      " dense_2 (Dense)             (None, 2)                 22        \n",
      "                                                                 \n",
      "=================================================================\n",
      "Total params: 1,092\n",
      "Trainable params: 1,092\n",
      "Non-trainable params: 0\n",
      "_________________________________________________________________\n"
     ]
    }
   ],
   "source": [
    "model.summary()  # tf.keras.utils.plot_model(model, show_shapes=True)"
   ]
  },
  {
   "cell_type": "code",
   "execution_count": 18,
   "id": "66206a36",
   "metadata": {},
   "outputs": [],
   "source": [
    "# Model checkpoint callback\n",
    "cp_callback = tf.keras.callbacks.ModelCheckpoint(\n",
    "    model_save_path, verbose=1, save_weights_only=False)\n",
    "# Callback for early stopping\n",
    "es_callback = tf.keras.callbacks.EarlyStopping(patience=20, verbose=1)"
   ]
  },
  {
   "cell_type": "code",
   "execution_count": 20,
   "id": "2ada3b71",
   "metadata": {},
   "outputs": [],
   "source": [
    "# Model compilation\n",
    "model.compile(\n",
    "    optimizer='adam',\n",
    "    loss='sparse_categorical_crossentropy',\n",
    "    metrics=['accuracy']\n",
    ")"
   ]
  },
  {
   "cell_type": "code",
   "execution_count": 21,
   "id": "77bac960",
   "metadata": {
    "scrolled": true
   },
   "outputs": [
    {
     "name": "stdout",
     "output_type": "stream",
     "text": [
      "Epoch 1/1000\n",
      "59/59 [==============================] - ETA: 0s - loss: 0.0088 - accuracy: 0.9979\n",
      "Epoch 00001: saving model to model.hdf5\n",
      "59/59 [==============================] - 1s 11ms/step - loss: 0.0088 - accuracy: 0.9979 - val_loss: 8.7806e-04 - val_accuracy: 1.0000\n",
      "Epoch 2/1000\n",
      "51/59 [========================>.....] - ETA: 0s - loss: 0.0105 - accuracy: 0.9963\n",
      "Epoch 00002: saving model to model.hdf5\n",
      "59/59 [==============================] - 1s 9ms/step - loss: 0.0102 - accuracy: 0.9964 - val_loss: 0.0016 - val_accuracy: 0.9996\n",
      "Epoch 3/1000\n",
      "57/59 [===========================>..] - ETA: 0s - loss: 0.0111 - accuracy: 0.9964\n",
      "Epoch 00003: saving model to model.hdf5\n",
      "59/59 [==============================] - 1s 9ms/step - loss: 0.0111 - accuracy: 0.9964 - val_loss: 0.0017 - val_accuracy: 0.9996\n",
      "Epoch 4/1000\n",
      "52/59 [=========================>....] - ETA: 0s - loss: 0.0093 - accuracy: 0.9967\n",
      "Epoch 00004: saving model to model.hdf5\n",
      "59/59 [==============================] - 0s 8ms/step - loss: 0.0089 - accuracy: 0.9968 - val_loss: 0.0016 - val_accuracy: 1.0000\n",
      "Epoch 5/1000\n",
      "51/59 [========================>.....] - ETA: 0s - loss: 0.0111 - accuracy: 0.9969\n",
      "Epoch 00005: saving model to model.hdf5\n",
      "59/59 [==============================] - 0s 8ms/step - loss: 0.0103 - accuracy: 0.9972 - val_loss: 0.0026 - val_accuracy: 0.9992\n",
      "Epoch 6/1000\n",
      "52/59 [=========================>....] - ETA: 0s - loss: 0.0107 - accuracy: 0.9974\n",
      "Epoch 00006: saving model to model.hdf5\n",
      "59/59 [==============================] - 1s 9ms/step - loss: 0.0107 - accuracy: 0.9975 - val_loss: 0.0017 - val_accuracy: 1.0000\n",
      "Epoch 7/1000\n",
      "51/59 [========================>.....] - ETA: 0s - loss: 0.0071 - accuracy: 0.9983\n",
      "Epoch 00007: saving model to model.hdf5\n",
      "59/59 [==============================] - 0s 8ms/step - loss: 0.0072 - accuracy: 0.9983 - val_loss: 0.0026 - val_accuracy: 0.9992\n",
      "Epoch 8/1000\n",
      "53/59 [=========================>....] - ETA: 0s - loss: 0.0122 - accuracy: 0.9957\n",
      "Epoch 00008: saving model to model.hdf5\n",
      "59/59 [==============================] - 0s 8ms/step - loss: 0.0137 - accuracy: 0.9957 - val_loss: 0.0021 - val_accuracy: 0.9996\n",
      "Epoch 9/1000\n",
      "57/59 [===========================>..] - ETA: 0s - loss: 0.0081 - accuracy: 0.9963\n",
      "Epoch 00009: saving model to model.hdf5\n",
      "59/59 [==============================] - 0s 8ms/step - loss: 0.0081 - accuracy: 0.9964 - val_loss: 0.0016 - val_accuracy: 1.0000\n",
      "Epoch 10/1000\n",
      "51/59 [========================>.....] - ETA: 0s - loss: 0.0112 - accuracy: 0.9960\n",
      "Epoch 00010: saving model to model.hdf5\n",
      "59/59 [==============================] - 0s 8ms/step - loss: 0.0104 - accuracy: 0.9964 - val_loss: 0.0019 - val_accuracy: 1.0000\n",
      "Epoch 11/1000\n",
      "51/59 [========================>.....] - ETA: 0s - loss: 0.0078 - accuracy: 0.9974\n",
      "Epoch 00011: saving model to model.hdf5\n",
      "59/59 [==============================] - 0s 8ms/step - loss: 0.0078 - accuracy: 0.9973 - val_loss: 0.0016 - val_accuracy: 1.0000\n",
      "Epoch 12/1000\n",
      "50/59 [========================>.....] - ETA: 0s - loss: 0.0091 - accuracy: 0.9972\n",
      "Epoch 00012: saving model to model.hdf5\n",
      "59/59 [==============================] - 0s 8ms/step - loss: 0.0099 - accuracy: 0.9968 - val_loss: 0.0016 - val_accuracy: 1.0000\n",
      "Epoch 13/1000\n",
      "57/59 [===========================>..] - ETA: 0s - loss: 0.0073 - accuracy: 0.9985\n",
      "Epoch 00013: saving model to model.hdf5\n",
      "59/59 [==============================] - 0s 8ms/step - loss: 0.0073 - accuracy: 0.9984 - val_loss: 0.0018 - val_accuracy: 1.0000\n",
      "Epoch 14/1000\n",
      "52/59 [=========================>....] - ETA: 0s - loss: 0.0089 - accuracy: 0.9965\n",
      "Epoch 00014: saving model to model.hdf5\n",
      "59/59 [==============================] - 0s 8ms/step - loss: 0.0083 - accuracy: 0.9968 - val_loss: 0.0024 - val_accuracy: 0.9992\n",
      "Epoch 15/1000\n",
      "57/59 [===========================>..] - ETA: 0s - loss: 0.0078 - accuracy: 0.9973\n",
      "Epoch 00015: saving model to model.hdf5\n",
      "59/59 [==============================] - 0s 8ms/step - loss: 0.0077 - accuracy: 0.9973 - val_loss: 0.0017 - val_accuracy: 1.0000\n",
      "Epoch 16/1000\n",
      "58/59 [============================>.] - ETA: 0s - loss: 0.0081 - accuracy: 0.9973\n",
      "Epoch 00016: saving model to model.hdf5\n",
      "59/59 [==============================] - 1s 8ms/step - loss: 0.0081 - accuracy: 0.9973 - val_loss: 0.0018 - val_accuracy: 1.0000\n",
      "Epoch 17/1000\n",
      "59/59 [==============================] - ETA: 0s - loss: 0.0091 - accuracy: 0.9972\n",
      "Epoch 00017: saving model to model.hdf5\n",
      "59/59 [==============================] - 0s 8ms/step - loss: 0.0091 - accuracy: 0.9972 - val_loss: 0.0018 - val_accuracy: 1.0000\n",
      "Epoch 18/1000\n",
      "58/59 [============================>.] - ETA: 0s - loss: 0.0107 - accuracy: 0.9968\n",
      "Epoch 00018: saving model to model.hdf5\n",
      "59/59 [==============================] - 0s 8ms/step - loss: 0.0106 - accuracy: 0.9968 - val_loss: 0.0016 - val_accuracy: 1.0000\n",
      "Epoch 19/1000\n",
      "51/59 [========================>.....] - ETA: 0s - loss: 0.0069 - accuracy: 0.9977\n",
      "Epoch 00019: saving model to model.hdf5\n",
      "59/59 [==============================] - 0s 8ms/step - loss: 0.0068 - accuracy: 0.9979 - val_loss: 0.0021 - val_accuracy: 0.9992\n",
      "Epoch 20/1000\n",
      "59/59 [==============================] - ETA: 0s - loss: 0.0102 - accuracy: 0.9968\n",
      "Epoch 00020: saving model to model.hdf5\n",
      "59/59 [==============================] - 0s 8ms/step - loss: 0.0102 - accuracy: 0.9968 - val_loss: 0.0022 - val_accuracy: 0.9992\n",
      "Epoch 21/1000\n",
      "57/59 [===========================>..] - ETA: 0s - loss: 0.0103 - accuracy: 0.9963\n",
      "Epoch 00021: saving model to model.hdf5\n",
      "59/59 [==============================] - 0s 8ms/step - loss: 0.0102 - accuracy: 0.9963 - val_loss: 0.0024 - val_accuracy: 0.9996\n",
      "Epoch 00021: early stopping\n"
     ]
    },
    {
     "data": {
      "text/plain": [
       "<keras.callbacks.History at 0x23be8ce6220>"
      ]
     },
     "execution_count": 21,
     "metadata": {},
     "output_type": "execute_result"
    }
   ],
   "source": [
    "model.fit(\n",
    "    X_train,\n",
    "    y_train,\n",
    "    epochs=1000,\n",
    "    batch_size=128,\n",
    "    validation_data=(X_test, y_test),\n",
    "    callbacks=[cp_callback, es_callback]\n",
    ")"
   ]
  },
  {
   "cell_type": "code",
   "execution_count": 22,
   "id": "54706d1a",
   "metadata": {},
   "outputs": [
    {
     "name": "stdout",
     "output_type": "stream",
     "text": [
      "20/20 [==============================] - 0s 4ms/step - loss: 0.0024 - accuracy: 0.9996\n"
     ]
    }
   ],
   "source": [
    "# Model evaluation\n",
    "val_loss, val_acc = model.evaluate(X_test, y_test, batch_size=128)"
   ]
  },
  {
   "cell_type": "code",
   "execution_count": 23,
   "id": "6b18d472",
   "metadata": {},
   "outputs": [],
   "source": [
    "# Loading the saved model\n",
    "model = tf.keras.models.load_model(model_save_path)"
   ]
  },
  {
   "cell_type": "code",
   "execution_count": 24,
   "id": "9c5bb450",
   "metadata": {},
   "outputs": [
    {
     "name": "stdout",
     "output_type": "stream",
     "text": [
      "[2.5823654e-06 9.9443769e-01]\n",
      "1\n"
     ]
    }
   ],
   "source": [
    "# Inference test\n",
    "predict_result = model.predict(np.array([X_test[0]]))\n",
    "print(np.squeeze(predict_result))\n",
    "print(np.argmax(np.squeeze(predict_result)))"
   ]
  },
  {
   "cell_type": "code",
   "execution_count": 25,
   "id": "bf19d28b",
   "metadata": {},
   "outputs": [
    {
     "name": "stdout",
     "output_type": "stream",
     "text": [
      "[[ 0.          0.         -0.06910387  0.03807533 -0.13597548  0.02409518\n",
      "  -0.17214972 -0.02321929 -0.18812591 -0.07152349 -0.17303145  0.03161645\n",
      "  -0.24770659  0.00742948 -0.29102433 -0.00250322 -0.3246907  -0.01043183\n",
      "  -0.16334194 -0.01839209 -0.23907727 -0.06848931 -0.28433847 -0.1026693\n",
      "  -0.31674117 -0.13273382 -0.14263839 -0.06768    -0.18537557 -0.11411691\n",
      "  -0.16537917 -0.09723389 -0.14277029 -0.07733154 -0.11712173 -0.11108351\n",
      "  -0.14680922 -0.13411492 -0.13059038 -0.11815184 -0.11220381 -0.10352093]]\n"
     ]
    }
   ],
   "source": [
    "print(np.array([X_test[0]]))"
   ]
  },
  {
   "cell_type": "code",
   "execution_count": 26,
   "id": "8e278837",
   "metadata": {},
   "outputs": [
    {
     "data": {
      "image/png": "[encoded data removed]",
      "text/plain": [
       "<Figure size 504x432 with 2 Axes>"
      ]
     },
     "metadata": {
      "needs_background": "light"
     },
     "output_type": "display_data"
    },
    {
     "name": "stdout",
     "output_type": "stream",
     "text": [
      "Classification Report\n",
      "              precision    recall  f1-score   support\n",
      "\n",
      "           0       1.00      1.00      1.00      1272\n",
      "           1       1.00      1.00      1.00      1228\n",
      "\n",
      "    accuracy                           1.00      2500\n",
      "   macro avg       1.00      1.00      1.00      2500\n",
      "weighted avg       1.00      1.00      1.00      2500\n",
      "\n"
     ]
    }
   ],
   "source": [
    "import pandas as pd\n",
    "import seaborn as sns\n",
    "import matplotlib.pyplot as plt\n",
    "from sklearn.metrics import confusion_matrix, classification_report\n",
    "\n",
    "def print_confusion_matrix(y_true, y_pred, report=True):\n",
    "    labels = sorted(list(set(y_true)))\n",
    "    cmx_data = confusion_matrix(y_true, y_pred, labels=labels)\n",
    "    \n",
    "    df_cmx = pd.DataFrame(cmx_data, index=labels, columns=labels)\n",
    " \n",
    "    fig, ax = plt.subplots(figsize=(7, 6))\n",
    "    sns.heatmap(df_cmx, annot=True, fmt='g' ,square=False)\n",
    "    ax.set_ylim(len(set(y_true)), 0)\n",
    "    plt.show()\n",
    "    \n",
    "    if report:\n",
    "        print('Classification Report')\n",
    "        print(classification_report(y_test, y_pred))\n",
    "\n",
    "Y_pred = model.predict(X_test)\n",
    "y_pred = np.argmax(Y_pred, axis=1)\n",
    "\n",
    "print_confusion_matrix(y_test, y_pred)"
   ]
  },
  {
   "cell_type": "code",
   "execution_count": null,
   "id": "e27aed88",
   "metadata": {},
   "outputs": [],
   "source": []
  }
 ],
 "metadata": {
  "kernelspec": {
   "display_name": "Python 3 (ipykernel)",
   "language": "python",
   "name": "python3"
  },
  "language_info": {
   "codemirror_mode": {
    "name": "ipython",
    "version": 3
   },
   "file_extension": ".py",
   "mimetype": "text/x-python",
   "name": "python",
   "nbconvert_exporter": "python",
   "pygments_lexer": "ipython3",
   "version": "3.9.7"
  }
 },
 "nbformat": 4,
 "nbformat_minor": 5
}
